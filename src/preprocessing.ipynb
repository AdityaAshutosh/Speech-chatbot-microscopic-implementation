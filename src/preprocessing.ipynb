{
 "cells": [
  {
   "cell_type": "code",
   "execution_count": null,
   "metadata": {},
   "outputs": [],
   "source": [
    "import os\n",
    "dataset_folder= \"../dataset/\"\n",
    "def load_dataset(dataset_folder):\n",
    "    speech_file=[]\n",
    "    for filename in os.listdir(dataset_folder):\n",
    "        if filename.endswith(\".wav\"):\n",
    "            speech_file.append(os.path.join(dataset_folder, filename))\n",
    "    print(speech_file)\n",
    "    return speech_file\n",
    "\n"
   ]
  },
  {
   "cell_type": "code",
   "execution_count": null,
   "metadata": {},
   "outputs": [],
   "source": [
    "result= load_dataset(dataset_folder)"
   ]
  },
  {
   "cell_type": "code",
   "execution_count": null,
   "metadata": {},
   "outputs": [],
   "source": [
    "#speech to text\n",
    "\n",
    "import assemblyai as aai\n",
    "\n",
    "\n",
    "def speech_to_text(speech_file):\n",
    "    aai.settings.api_key = \"0cb9a784fb694492b32b4010d9bf58eb\"\n",
    "    configuration = aai.TranscriptionConfig(speaker_labels=True)\n",
    "    transcriber = aai.Transcriber()\n",
    "    transcript = transcriber.transcribe(speech_file, configuration)\n",
    "    return transcript.text\n",
    "\n"
   ]
  },
  {
   "cell_type": "code",
   "execution_count": null,
   "metadata": {},
   "outputs": [],
   "source": [
    "#Preprocessing text- tokenization, removing stop words and lemmatization\n",
    "import nltk\n",
    "from nltk.tokenize import word_tokenize\n",
    "from nltk.corpus import stopwords\n",
    "from nltk.stem import WordNetLemmatizer\n",
    "def preprocess_text(text):\n",
    "    tokens = word_tokenize(text.lower())\n",
    "    \n",
    "    stop_words = set(stopwords.words('english'))\n",
    "    tokens = [token for token in tokens if token not in stop_words]\n",
    "    \n",
    "    lemmatizer = WordNetLemmatizer()\n",
    "    tokens = [lemmatizer.lemmatize(token) for token in tokens]\n",
    "     \n",
    "    return \" \".join(tokens)"
   ]
  },
  {
   "cell_type": "code",
   "execution_count": null,
   "metadata": {},
   "outputs": [],
   "source": [
    "import json\n",
    "def preprocess_dataset(dataset_folder, output_file):\n",
    "    speech_files = load_dataset(dataset_folder)\n",
    "    processed_data = []\n",
    "\n",
    "    for speech_file in speech_files:\n",
    "        text = speech_to_text(speech_file)\n",
    "        processed_text = preprocess_text(text)\n",
    "        print(f\"Processed: {speech_file}\")\n",
    "\n",
    "        processed_data.append({\n",
    "            'speech_file': speech_file,\n",
    "            'text': text,\n",
    "            'processed_text': processed_text\n",
    "        })\n",
    "\n",
    "    \n",
    "    with open(output_file, 'w') as f:\n",
    "        json.dump(processed_data, f)\n",
    "    print(f\"Processed data saved to {output_file}\")"
   ]
  },
  {
   "cell_type": "code",
   "execution_count": null,
   "metadata": {},
   "outputs": [],
   "source": [
    "import nltk\n",
    "nltk.download('punkt')\n",
    "nltk.download('stopwords')\n",
    "nltk.download('wordnet')"
   ]
  },
  {
   "cell_type": "code",
   "execution_count": null,
   "metadata": {},
   "outputs": [],
   "source": [
    "#calling all functions\n",
    "output_file= \"processed_data.json\"\n",
    "dataset_folder= \"../dataset\"\n",
    "preprocess_dataset(dataset_folder, output_file)"
   ]
  },
  {
   "cell_type": "code",
   "execution_count": null,
   "metadata": {},
   "outputs": [],
   "source": []
  }
 ],
 "metadata": {
  "kernelspec": {
   "display_name": "Python 3",
   "language": "python",
   "name": "python3"
  },
  "language_info": {
   "codemirror_mode": {
    "name": "ipython",
    "version": 3
   },
   "file_extension": ".py",
   "mimetype": "text/x-python",
   "name": "python",
   "nbconvert_exporter": "python",
   "pygments_lexer": "ipython3",
   "version": "3.12.2"
  }
 },
 "nbformat": 4,
 "nbformat_minor": 2
}
